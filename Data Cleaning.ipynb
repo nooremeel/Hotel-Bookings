{
 "cells": [
  {
   "cell_type": "code",
   "execution_count": 1,
   "id": "3381ddb4-d146-4b4d-8c7c-7131da127090",
   "metadata": {},
   "outputs": [],
   "source": [
    "import pandas as pd"
   ]
  },
  {
   "cell_type": "code",
   "execution_count": 2,
   "id": "a38facc4-f49f-4836-a984-09d323daceb9",
   "metadata": {},
   "outputs": [],
   "source": [
    "hotel_df=pd.read_csv('hotel_bookings.csv')"
   ]
  },
  {
   "cell_type": "code",
   "execution_count": 3,
   "id": "33c85810-8cad-485f-a72a-ff332b63e18d",
   "metadata": {},
   "outputs": [
    {
     "name": "stdout",
     "output_type": "stream",
     "text": [
      "<class 'pandas.core.frame.DataFrame'>\n",
      "RangeIndex: 119390 entries, 0 to 119389\n",
      "Data columns (total 32 columns):\n",
      " #   Column                          Non-Null Count   Dtype  \n",
      "---  ------                          --------------   -----  \n",
      " 0   hotel                           119390 non-null  object \n",
      " 1   is_canceled                     119390 non-null  int64  \n",
      " 2   lead_time                       119390 non-null  int64  \n",
      " 3   arrival_date_year               119390 non-null  int64  \n",
      " 4   arrival_date_month              119390 non-null  object \n",
      " 5   arrival_date_week_number        119390 non-null  int64  \n",
      " 6   arrival_date_day_of_month       119390 non-null  int64  \n",
      " 7   stays_in_weekend_nights         119390 non-null  int64  \n",
      " 8   stays_in_week_nights            119390 non-null  int64  \n",
      " 9   adults                          119390 non-null  int64  \n",
      " 10  children                        119386 non-null  float64\n",
      " 11  babies                          119390 non-null  int64  \n",
      " 12  meal                            119390 non-null  object \n",
      " 13  country                         118902 non-null  object \n",
      " 14  market_segment                  119390 non-null  object \n",
      " 15  distribution_channel            119390 non-null  object \n",
      " 16  is_repeated_guest               119390 non-null  int64  \n",
      " 17  previous_cancellations          119390 non-null  int64  \n",
      " 18  previous_bookings_not_canceled  119390 non-null  int64  \n",
      " 19  reserved_room_type              119390 non-null  object \n",
      " 20  assigned_room_type              119390 non-null  object \n",
      " 21  booking_changes                 119390 non-null  int64  \n",
      " 22  deposit_type                    119390 non-null  object \n",
      " 23  agent                           103050 non-null  float64\n",
      " 24  company                         6797 non-null    float64\n",
      " 25  days_in_waiting_list            119390 non-null  int64  \n",
      " 26  customer_type                   119390 non-null  object \n",
      " 27  adr                             119390 non-null  float64\n",
      " 28  required_car_parking_spaces     119390 non-null  int64  \n",
      " 29  total_of_special_requests       119390 non-null  int64  \n",
      " 30  reservation_status              119390 non-null  object \n",
      " 31  reservation_status_date         119390 non-null  object \n",
      "dtypes: float64(4), int64(16), object(12)\n",
      "memory usage: 29.1+ MB\n"
     ]
    }
   ],
   "source": [
    "hotel_df.info()"
   ]
  },
  {
   "cell_type": "code",
   "execution_count": 4,
   "id": "1e1d7ed7-5225-4746-a6f1-0caa0f5848f5",
   "metadata": {},
   "outputs": [
    {
     "data": {
      "text/plain": [
       "hotel                                  0\n",
       "is_canceled                            0\n",
       "lead_time                              0\n",
       "arrival_date_year                      0\n",
       "arrival_date_month                     0\n",
       "arrival_date_week_number               0\n",
       "arrival_date_day_of_month              0\n",
       "stays_in_weekend_nights                0\n",
       "stays_in_week_nights                   0\n",
       "adults                                 0\n",
       "children                               4\n",
       "babies                                 0\n",
       "meal                                   0\n",
       "country                              488\n",
       "market_segment                         0\n",
       "distribution_channel                   0\n",
       "is_repeated_guest                      0\n",
       "previous_cancellations                 0\n",
       "previous_bookings_not_canceled         0\n",
       "reserved_room_type                     0\n",
       "assigned_room_type                     0\n",
       "booking_changes                        0\n",
       "deposit_type                           0\n",
       "agent                              16340\n",
       "company                           112593\n",
       "days_in_waiting_list                   0\n",
       "customer_type                          0\n",
       "adr                                    0\n",
       "required_car_parking_spaces            0\n",
       "total_of_special_requests              0\n",
       "reservation_status                     0\n",
       "reservation_status_date                0\n",
       "dtype: int64"
      ]
     },
     "execution_count": 4,
     "metadata": {},
     "output_type": "execute_result"
    }
   ],
   "source": [
    "null_columns=hotel_df.isnull().sum()\n",
    "null_columns"
   ]
  },
  {
   "cell_type": "code",
   "execution_count": 5,
   "id": "ce3edd56-aa74-4d7a-919d-1f739bb2b95e",
   "metadata": {},
   "outputs": [],
   "source": [
    "hotel_df['country'] = hotel_df['country'].fillna('Unknown')\n",
    "hotel_df['agent'] = hotel_df['agent'].fillna('Unknown')\n",
    "hotel_df['company'] = hotel_df['company'].fillna('Unknown')"
   ]
  },
  {
   "cell_type": "code",
   "execution_count": 6,
   "id": "c30f20fa-a8f6-47ab-8dd2-7759083ff244",
   "metadata": {},
   "outputs": [],
   "source": [
    "hotel_df = hotel_df.dropna(subset=['children'])"
   ]
  },
  {
   "cell_type": "code",
   "execution_count": 7,
   "id": "807ba823-81a6-446c-ae21-f9907b8cfae2",
   "metadata": {},
   "outputs": [
    {
     "name": "stdout",
     "output_type": "stream",
     "text": [
      "               hotel  is_canceled  lead_time arrival_date_year  \\\n",
      "0       Resort Hotel            0        342              2015   \n",
      "1       Resort Hotel            0        737              2015   \n",
      "2       Resort Hotel            0          7              2015   \n",
      "3       Resort Hotel            0         13              2015   \n",
      "4       Resort Hotel            0         14              2015   \n",
      "...              ...          ...        ...               ...   \n",
      "119385    City Hotel            0         23              2017   \n",
      "119386    City Hotel            0        102              2017   \n",
      "119387    City Hotel            0         34              2017   \n",
      "119388    City Hotel            0        109              2017   \n",
      "119389    City Hotel            0        205              2017   \n",
      "\n",
      "       arrival_date_month  arrival_date_week_number arrival_date_day_of_month  \\\n",
      "0                    July                        27                         1   \n",
      "1                    July                        27                         1   \n",
      "2                    July                        27                         1   \n",
      "3                    July                        27                         1   \n",
      "4                    July                        27                         1   \n",
      "...                   ...                       ...                       ...   \n",
      "119385             August                        35                        30   \n",
      "119386             August                        35                        31   \n",
      "119387             August                        35                        31   \n",
      "119388             August                        35                        31   \n",
      "119389             August                        35                        29   \n",
      "\n",
      "        stays_in_weekend_nights  stays_in_week_nights  adults  ...    agent  \\\n",
      "0                             0                     0       2  ...  Unknown   \n",
      "1                             0                     0       2  ...  Unknown   \n",
      "2                             0                     1       1  ...  Unknown   \n",
      "3                             0                     1       1  ...    304.0   \n",
      "4                             0                     2       2  ...    240.0   \n",
      "...                         ...                   ...     ...  ...      ...   \n",
      "119385                        2                     5       2  ...    394.0   \n",
      "119386                        2                     5       3  ...      9.0   \n",
      "119387                        2                     5       2  ...      9.0   \n",
      "119388                        2                     5       2  ...     89.0   \n",
      "119389                        2                     7       2  ...      9.0   \n",
      "\n",
      "        company days_in_waiting_list customer_type     adr  \\\n",
      "0       Unknown                    0     Transient    0.00   \n",
      "1       Unknown                    0     Transient    0.00   \n",
      "2       Unknown                    0     Transient   75.00   \n",
      "3       Unknown                    0     Transient   75.00   \n",
      "4       Unknown                    0     Transient   98.00   \n",
      "...         ...                  ...           ...     ...   \n",
      "119385  Unknown                    0     Transient   96.14   \n",
      "119386  Unknown                    0     Transient  225.43   \n",
      "119387  Unknown                    0     Transient  157.71   \n",
      "119388  Unknown                    0     Transient  104.40   \n",
      "119389  Unknown                    0     Transient  151.20   \n",
      "\n",
      "       required_car_parking_spaces  total_of_special_requests  \\\n",
      "0                                0                          0   \n",
      "1                                0                          0   \n",
      "2                                0                          0   \n",
      "3                                0                          0   \n",
      "4                                0                          1   \n",
      "...                            ...                        ...   \n",
      "119385                           0                          0   \n",
      "119386                           0                          2   \n",
      "119387                           0                          4   \n",
      "119388                           0                          0   \n",
      "119389                           0                          2   \n",
      "\n",
      "        reservation_status  reservation_status_date arrival_date  \n",
      "0                Check-Out               2015-07-01   2015-07-01  \n",
      "1                Check-Out               2015-07-01   2015-07-01  \n",
      "2                Check-Out               2015-07-02   2015-07-01  \n",
      "3                Check-Out               2015-07-02   2015-07-01  \n",
      "4                Check-Out               2015-07-03   2015-07-01  \n",
      "...                    ...                      ...          ...  \n",
      "119385           Check-Out               2017-09-06   2017-08-30  \n",
      "119386           Check-Out               2017-09-07   2017-08-31  \n",
      "119387           Check-Out               2017-09-07   2017-08-31  \n",
      "119388           Check-Out               2017-09-07   2017-08-31  \n",
      "119389           Check-Out               2017-09-07   2017-08-29  \n",
      "\n",
      "[119386 rows x 33 columns]\n"
     ]
    }
   ],
   "source": [
    "hotel_df['arrival_date_day_of_month'] = hotel_df['arrival_date_day_of_month'].astype(str)\n",
    "hotel_df['arrival_date_year'] = hotel_df['arrival_date_year'].astype(str)\n",
    "hotel_df['arrival_date'] = hotel_df['arrival_date_day_of_month'] + ' ' + hotel_df['arrival_date_month'] + ' ' + hotel_df['arrival_date_year']\n",
    "\n",
    "hotel_df['arrival_date'] = pd.to_datetime(hotel_df['arrival_date'], format='%d %B %Y')\n",
    "print(hotel_df)"
   ]
  },
  {
   "cell_type": "code",
   "execution_count": 8,
   "id": "6133a0c5-3b1a-411b-88ee-5301a824c88c",
   "metadata": {},
   "outputs": [],
   "source": [
    "boolean_columns = ['is_canceled', 'is_repeated_guest']\n",
    "\n",
    "# Replace only in the specified boolean columns\n",
    "hotel_df[boolean_columns] = hotel_df[boolean_columns].replace({1: 'Yes', 0: 'No'})\n"
   ]
  },
  {
   "cell_type": "code",
   "execution_count": 10,
   "id": "619ff34a-8912-4f65-9b33-03e046121701",
   "metadata": {},
   "outputs": [],
   "source": [
    "hotel_df.to_csv('hotel_bookings_clean.csv')"
   ]
  },
  {
   "cell_type": "code",
   "execution_count": null,
   "id": "b22f0719-6bbc-4380-9369-4f19f1ea558c",
   "metadata": {},
   "outputs": [],
   "source": []
  }
 ],
 "metadata": {
  "kernelspec": {
   "display_name": "Python 3 (ipykernel)",
   "language": "python",
   "name": "python3"
  },
  "language_info": {
   "codemirror_mode": {
    "name": "ipython",
    "version": 3
   },
   "file_extension": ".py",
   "mimetype": "text/x-python",
   "name": "python",
   "nbconvert_exporter": "python",
   "pygments_lexer": "ipython3",
   "version": "3.11.0"
  }
 },
 "nbformat": 4,
 "nbformat_minor": 5
}
